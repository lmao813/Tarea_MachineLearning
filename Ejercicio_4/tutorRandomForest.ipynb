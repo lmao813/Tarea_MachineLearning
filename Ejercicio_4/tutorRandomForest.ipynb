{
 "cells": [
  {
   "cell_type": "code",
   "execution_count": null,
   "id": "f45fa7ce",
   "metadata": {},
   "outputs": [],
   "source": [
    "\"\"\"\n",
    "Tomado de :\n",
    "https://towardsdatascience.com/random-forest-in-python-24d0893d51c0\n",
    "\"\"\""
   ]
  },
  {
   "cell_type": "code",
   "execution_count": 1,
   "id": "bdd1199e",
   "metadata": {},
   "outputs": [
    {
     "data": {
      "text/html": [
       "<div>\n",
       "<style scoped>\n",
       "    .dataframe tbody tr th:only-of-type {\n",
       "        vertical-align: middle;\n",
       "    }\n",
       "\n",
       "    .dataframe tbody tr th {\n",
       "        vertical-align: top;\n",
       "    }\n",
       "\n",
       "    .dataframe thead th {\n",
       "        text-align: right;\n",
       "    }\n",
       "</style>\n",
       "<table border=\"1\" class=\"dataframe\">\n",
       "  <thead>\n",
       "    <tr style=\"text-align: right;\">\n",
       "      <th></th>\n",
       "      <th>year</th>\n",
       "      <th>month</th>\n",
       "      <th>day</th>\n",
       "      <th>week</th>\n",
       "      <th>temp_2</th>\n",
       "      <th>temp_1</th>\n",
       "      <th>average</th>\n",
       "      <th>actual</th>\n",
       "      <th>forecast_noaa</th>\n",
       "      <th>forecast_acc</th>\n",
       "      <th>forecast_under</th>\n",
       "      <th>friend</th>\n",
       "    </tr>\n",
       "  </thead>\n",
       "  <tbody>\n",
       "    <tr>\n",
       "      <th>0</th>\n",
       "      <td>2016</td>\n",
       "      <td>1</td>\n",
       "      <td>1</td>\n",
       "      <td>Fri</td>\n",
       "      <td>45</td>\n",
       "      <td>45</td>\n",
       "      <td>45.6</td>\n",
       "      <td>45</td>\n",
       "      <td>43</td>\n",
       "      <td>50</td>\n",
       "      <td>44</td>\n",
       "      <td>29</td>\n",
       "    </tr>\n",
       "    <tr>\n",
       "      <th>1</th>\n",
       "      <td>2016</td>\n",
       "      <td>1</td>\n",
       "      <td>2</td>\n",
       "      <td>Sat</td>\n",
       "      <td>44</td>\n",
       "      <td>45</td>\n",
       "      <td>45.7</td>\n",
       "      <td>44</td>\n",
       "      <td>41</td>\n",
       "      <td>50</td>\n",
       "      <td>44</td>\n",
       "      <td>61</td>\n",
       "    </tr>\n",
       "    <tr>\n",
       "      <th>2</th>\n",
       "      <td>2016</td>\n",
       "      <td>1</td>\n",
       "      <td>3</td>\n",
       "      <td>Sun</td>\n",
       "      <td>45</td>\n",
       "      <td>44</td>\n",
       "      <td>45.8</td>\n",
       "      <td>41</td>\n",
       "      <td>43</td>\n",
       "      <td>46</td>\n",
       "      <td>47</td>\n",
       "      <td>56</td>\n",
       "    </tr>\n",
       "    <tr>\n",
       "      <th>3</th>\n",
       "      <td>2016</td>\n",
       "      <td>1</td>\n",
       "      <td>4</td>\n",
       "      <td>Mon</td>\n",
       "      <td>44</td>\n",
       "      <td>41</td>\n",
       "      <td>45.9</td>\n",
       "      <td>40</td>\n",
       "      <td>44</td>\n",
       "      <td>48</td>\n",
       "      <td>46</td>\n",
       "      <td>53</td>\n",
       "    </tr>\n",
       "    <tr>\n",
       "      <th>4</th>\n",
       "      <td>2016</td>\n",
       "      <td>1</td>\n",
       "      <td>5</td>\n",
       "      <td>Tues</td>\n",
       "      <td>41</td>\n",
       "      <td>40</td>\n",
       "      <td>46.0</td>\n",
       "      <td>44</td>\n",
       "      <td>46</td>\n",
       "      <td>46</td>\n",
       "      <td>46</td>\n",
       "      <td>41</td>\n",
       "    </tr>\n",
       "  </tbody>\n",
       "</table>\n",
       "</div>"
      ],
      "text/plain": [
       "   year  month  day  week  temp_2  temp_1  average  actual  forecast_noaa  \\\n",
       "0  2016      1    1   Fri      45      45     45.6      45             43   \n",
       "1  2016      1    2   Sat      44      45     45.7      44             41   \n",
       "2  2016      1    3   Sun      45      44     45.8      41             43   \n",
       "3  2016      1    4   Mon      44      41     45.9      40             44   \n",
       "4  2016      1    5  Tues      41      40     46.0      44             46   \n",
       "\n",
       "   forecast_acc  forecast_under  friend  \n",
       "0            50              44      29  \n",
       "1            50              44      61  \n",
       "2            46              47      56  \n",
       "3            48              46      53  \n",
       "4            46              46      41  "
      ]
     },
     "execution_count": 1,
     "metadata": {},
     "output_type": "execute_result"
    }
   ],
   "source": [
    "# Pandas is used for data manipulation\n",
    "import pandas as pd# Read in data and display first 5 rows\n",
    "\n",
    "features = pd.read_csv('temps.csv')\n",
    "features.head(5)"
   ]
  },
  {
   "cell_type": "markdown",
   "id": "094e2968",
   "metadata": {},
   "source": [
    "year: 2016 para todos los puntos de datos\n",
    "\n",
    "month: numero del mes del año\n",
    "\n",
    "day: numero para el dia del año\n",
    "\n",
    "week: dia de la semana como un character string\n",
    "\n",
    "temp_2: max temperatura 2 days antes\n",
    "\n",
    "temp_1: max temperatura 1 day antes\n",
    "\n",
    "average: promedio historico de max temperatura\n",
    "\n",
    "actual: max temperatura medida, es el rotulo\n",
    "\n",
    "friend: yla prediccion de sus amigos, a random number between 20 below the average and 20 above the average"
   ]
  },
  {
   "cell_type": "markdown",
   "id": "a438e855",
   "metadata": {},
   "source": [
    "# Identificacion de anomalias, Datos faltantes"
   ]
  },
  {
   "cell_type": "markdown",
   "id": "dee4cb3b",
   "metadata": {},
   "source": [
    "En los datos solo hay 348 filas. los datos faltantes pueden impactar el analisis, lo mismo \n",
    "que los datos incorrectos y los valores atipicos. En este caso los datos faltantes y la calidad\n",
    "de los datos es buena porque proviene de la fuente.\n",
    "Podemos ver que hay 12 columnas, de las que nos itntresan 8, que representan 8 \"features\" y el rotulo, \"actual\"."
   ]
  },
  {
   "cell_type": "code",
   "execution_count": 2,
   "id": "b0c2f2b1",
   "metadata": {},
   "outputs": [
    {
     "name": "stdout",
     "output_type": "stream",
     "text": [
      "The shape of our features is: (348, 12)\n"
     ]
    }
   ],
   "source": [
    "print('The shape of our features is:', features.shape)"
   ]
  },
  {
   "cell_type": "markdown",
   "id": "2c40d6a7",
   "metadata": {},
   "source": [
    "Para identificar anomalias, calculamos rapidamente un resumen de estadisticas"
   ]
  },
  {
   "cell_type": "code",
   "execution_count": 3,
   "id": "31a59823",
   "metadata": {},
   "outputs": [
    {
     "data": {
      "text/html": [
       "<div>\n",
       "<style scoped>\n",
       "    .dataframe tbody tr th:only-of-type {\n",
       "        vertical-align: middle;\n",
       "    }\n",
       "\n",
       "    .dataframe tbody tr th {\n",
       "        vertical-align: top;\n",
       "    }\n",
       "\n",
       "    .dataframe thead th {\n",
       "        text-align: right;\n",
       "    }\n",
       "</style>\n",
       "<table border=\"1\" class=\"dataframe\">\n",
       "  <thead>\n",
       "    <tr style=\"text-align: right;\">\n",
       "      <th></th>\n",
       "      <th>year</th>\n",
       "      <th>month</th>\n",
       "      <th>day</th>\n",
       "      <th>temp_2</th>\n",
       "      <th>temp_1</th>\n",
       "      <th>average</th>\n",
       "      <th>actual</th>\n",
       "      <th>forecast_noaa</th>\n",
       "      <th>forecast_acc</th>\n",
       "      <th>forecast_under</th>\n",
       "      <th>friend</th>\n",
       "    </tr>\n",
       "  </thead>\n",
       "  <tbody>\n",
       "    <tr>\n",
       "      <th>count</th>\n",
       "      <td>348.0</td>\n",
       "      <td>348.000000</td>\n",
       "      <td>348.000000</td>\n",
       "      <td>348.000000</td>\n",
       "      <td>348.000000</td>\n",
       "      <td>348.000000</td>\n",
       "      <td>348.000000</td>\n",
       "      <td>348.000000</td>\n",
       "      <td>348.000000</td>\n",
       "      <td>348.000000</td>\n",
       "      <td>348.000000</td>\n",
       "    </tr>\n",
       "    <tr>\n",
       "      <th>mean</th>\n",
       "      <td>2016.0</td>\n",
       "      <td>6.477011</td>\n",
       "      <td>15.514368</td>\n",
       "      <td>62.652299</td>\n",
       "      <td>62.701149</td>\n",
       "      <td>59.760632</td>\n",
       "      <td>62.543103</td>\n",
       "      <td>57.238506</td>\n",
       "      <td>62.373563</td>\n",
       "      <td>59.772989</td>\n",
       "      <td>60.034483</td>\n",
       "    </tr>\n",
       "    <tr>\n",
       "      <th>std</th>\n",
       "      <td>0.0</td>\n",
       "      <td>3.498380</td>\n",
       "      <td>8.772982</td>\n",
       "      <td>12.165398</td>\n",
       "      <td>12.120542</td>\n",
       "      <td>10.527306</td>\n",
       "      <td>11.794146</td>\n",
       "      <td>10.605746</td>\n",
       "      <td>10.549381</td>\n",
       "      <td>10.705256</td>\n",
       "      <td>15.626179</td>\n",
       "    </tr>\n",
       "    <tr>\n",
       "      <th>min</th>\n",
       "      <td>2016.0</td>\n",
       "      <td>1.000000</td>\n",
       "      <td>1.000000</td>\n",
       "      <td>35.000000</td>\n",
       "      <td>35.000000</td>\n",
       "      <td>45.100000</td>\n",
       "      <td>35.000000</td>\n",
       "      <td>41.000000</td>\n",
       "      <td>46.000000</td>\n",
       "      <td>44.000000</td>\n",
       "      <td>28.000000</td>\n",
       "    </tr>\n",
       "    <tr>\n",
       "      <th>25%</th>\n",
       "      <td>2016.0</td>\n",
       "      <td>3.000000</td>\n",
       "      <td>8.000000</td>\n",
       "      <td>54.000000</td>\n",
       "      <td>54.000000</td>\n",
       "      <td>49.975000</td>\n",
       "      <td>54.000000</td>\n",
       "      <td>48.000000</td>\n",
       "      <td>53.000000</td>\n",
       "      <td>50.000000</td>\n",
       "      <td>47.750000</td>\n",
       "    </tr>\n",
       "    <tr>\n",
       "      <th>50%</th>\n",
       "      <td>2016.0</td>\n",
       "      <td>6.000000</td>\n",
       "      <td>15.000000</td>\n",
       "      <td>62.500000</td>\n",
       "      <td>62.500000</td>\n",
       "      <td>58.200000</td>\n",
       "      <td>62.500000</td>\n",
       "      <td>56.000000</td>\n",
       "      <td>61.000000</td>\n",
       "      <td>58.000000</td>\n",
       "      <td>60.000000</td>\n",
       "    </tr>\n",
       "    <tr>\n",
       "      <th>75%</th>\n",
       "      <td>2016.0</td>\n",
       "      <td>10.000000</td>\n",
       "      <td>23.000000</td>\n",
       "      <td>71.000000</td>\n",
       "      <td>71.000000</td>\n",
       "      <td>69.025000</td>\n",
       "      <td>71.000000</td>\n",
       "      <td>66.000000</td>\n",
       "      <td>72.000000</td>\n",
       "      <td>69.000000</td>\n",
       "      <td>71.000000</td>\n",
       "    </tr>\n",
       "    <tr>\n",
       "      <th>max</th>\n",
       "      <td>2016.0</td>\n",
       "      <td>12.000000</td>\n",
       "      <td>31.000000</td>\n",
       "      <td>117.000000</td>\n",
       "      <td>117.000000</td>\n",
       "      <td>77.400000</td>\n",
       "      <td>92.000000</td>\n",
       "      <td>77.000000</td>\n",
       "      <td>82.000000</td>\n",
       "      <td>79.000000</td>\n",
       "      <td>95.000000</td>\n",
       "    </tr>\n",
       "  </tbody>\n",
       "</table>\n",
       "</div>"
      ],
      "text/plain": [
       "         year       month         day      temp_2      temp_1     average  \\\n",
       "count   348.0  348.000000  348.000000  348.000000  348.000000  348.000000   \n",
       "mean   2016.0    6.477011   15.514368   62.652299   62.701149   59.760632   \n",
       "std       0.0    3.498380    8.772982   12.165398   12.120542   10.527306   \n",
       "min    2016.0    1.000000    1.000000   35.000000   35.000000   45.100000   \n",
       "25%    2016.0    3.000000    8.000000   54.000000   54.000000   49.975000   \n",
       "50%    2016.0    6.000000   15.000000   62.500000   62.500000   58.200000   \n",
       "75%    2016.0   10.000000   23.000000   71.000000   71.000000   69.025000   \n",
       "max    2016.0   12.000000   31.000000  117.000000  117.000000   77.400000   \n",
       "\n",
       "           actual  forecast_noaa  forecast_acc  forecast_under      friend  \n",
       "count  348.000000     348.000000    348.000000      348.000000  348.000000  \n",
       "mean    62.543103      57.238506     62.373563       59.772989   60.034483  \n",
       "std     11.794146      10.605746     10.549381       10.705256   15.626179  \n",
       "min     35.000000      41.000000     46.000000       44.000000   28.000000  \n",
       "25%     54.000000      48.000000     53.000000       50.000000   47.750000  \n",
       "50%     62.500000      56.000000     61.000000       58.000000   60.000000  \n",
       "75%     71.000000      66.000000     72.000000       69.000000   71.000000  \n",
       "max     92.000000      77.000000     82.000000       79.000000   95.000000  "
      ]
     },
     "execution_count": 3,
     "metadata": {},
     "output_type": "execute_result"
    }
   ],
   "source": [
    "# Descriptive statistics for each column\n",
    "features.describe()"
   ]
  },
  {
   "cell_type": "markdown",
   "id": "25a8b669",
   "metadata": {},
   "source": [
    "No hay puntos de datos que aparezcan como anomalos ni ceros en ninguna de las columnas-\n",
    "Otra forma para observar la calidad de los datos es dibujar graficas basicas."
   ]
  },
  {
   "cell_type": "code",
   "execution_count": 4,
   "id": "8d54cc3e",
   "metadata": {},
   "outputs": [
    {
     "data": {
      "text/html": [
       "<div>\n",
       "<style scoped>\n",
       "    .dataframe tbody tr th:only-of-type {\n",
       "        vertical-align: middle;\n",
       "    }\n",
       "\n",
       "    .dataframe tbody tr th {\n",
       "        vertical-align: top;\n",
       "    }\n",
       "\n",
       "    .dataframe thead th {\n",
       "        text-align: right;\n",
       "    }\n",
       "</style>\n",
       "<table border=\"1\" class=\"dataframe\">\n",
       "  <thead>\n",
       "    <tr style=\"text-align: right;\">\n",
       "      <th></th>\n",
       "      <th>year</th>\n",
       "      <th>month</th>\n",
       "      <th>day</th>\n",
       "      <th>week</th>\n",
       "      <th>temp_2</th>\n",
       "      <th>temp_1</th>\n",
       "      <th>average</th>\n",
       "      <th>actual</th>\n",
       "      <th>friend</th>\n",
       "    </tr>\n",
       "  </thead>\n",
       "  <tbody>\n",
       "    <tr>\n",
       "      <th>0</th>\n",
       "      <td>2016</td>\n",
       "      <td>1</td>\n",
       "      <td>1</td>\n",
       "      <td>Fri</td>\n",
       "      <td>45</td>\n",
       "      <td>45</td>\n",
       "      <td>45.6</td>\n",
       "      <td>45</td>\n",
       "      <td>29</td>\n",
       "    </tr>\n",
       "    <tr>\n",
       "      <th>1</th>\n",
       "      <td>2016</td>\n",
       "      <td>1</td>\n",
       "      <td>2</td>\n",
       "      <td>Sat</td>\n",
       "      <td>44</td>\n",
       "      <td>45</td>\n",
       "      <td>45.7</td>\n",
       "      <td>44</td>\n",
       "      <td>61</td>\n",
       "    </tr>\n",
       "    <tr>\n",
       "      <th>2</th>\n",
       "      <td>2016</td>\n",
       "      <td>1</td>\n",
       "      <td>3</td>\n",
       "      <td>Sun</td>\n",
       "      <td>45</td>\n",
       "      <td>44</td>\n",
       "      <td>45.8</td>\n",
       "      <td>41</td>\n",
       "      <td>56</td>\n",
       "    </tr>\n",
       "    <tr>\n",
       "      <th>3</th>\n",
       "      <td>2016</td>\n",
       "      <td>1</td>\n",
       "      <td>4</td>\n",
       "      <td>Mon</td>\n",
       "      <td>44</td>\n",
       "      <td>41</td>\n",
       "      <td>45.9</td>\n",
       "      <td>40</td>\n",
       "      <td>53</td>\n",
       "    </tr>\n",
       "    <tr>\n",
       "      <th>4</th>\n",
       "      <td>2016</td>\n",
       "      <td>1</td>\n",
       "      <td>5</td>\n",
       "      <td>Tues</td>\n",
       "      <td>41</td>\n",
       "      <td>40</td>\n",
       "      <td>46.0</td>\n",
       "      <td>44</td>\n",
       "      <td>41</td>\n",
       "    </tr>\n",
       "  </tbody>\n",
       "</table>\n",
       "</div>"
      ],
      "text/plain": [
       "   year  month  day  week  temp_2  temp_1  average  actual  friend\n",
       "0  2016      1    1   Fri      45      45     45.6      45      29\n",
       "1  2016      1    2   Sat      44      45     45.7      44      61\n",
       "2  2016      1    3   Sun      45      44     45.8      41      56\n",
       "3  2016      1    4   Mon      44      41     45.9      40      53\n",
       "4  2016      1    5  Tues      41      40     46.0      44      41"
      ]
     },
     "execution_count": 4,
     "metadata": {},
     "output_type": "execute_result"
    }
   ],
   "source": [
    "col_list = [\"year\", \"month\",\"week\",\"day\", \"temp_2\",\"temp_1\", \"average\", \"actual\", \"friend\" ]\n",
    "features = pd.read_csv('temps.csv', usecols=col_list)\n",
    "features.head(5)"
   ]
  },
  {
   "cell_type": "code",
   "execution_count": 5,
   "id": "43d4cea8",
   "metadata": {},
   "outputs": [
    {
     "name": "stdout",
     "output_type": "stream",
     "text": [
      "The shape of our features is: (348, 9)\n"
     ]
    }
   ],
   "source": [
    "print('The shape of our features is:', features.shape)"
   ]
  },
  {
   "cell_type": "code",
   "execution_count": 6,
   "id": "a209211b",
   "metadata": {},
   "outputs": [
    {
     "data": {
      "text/html": [
       "<div>\n",
       "<style scoped>\n",
       "    .dataframe tbody tr th:only-of-type {\n",
       "        vertical-align: middle;\n",
       "    }\n",
       "\n",
       "    .dataframe tbody tr th {\n",
       "        vertical-align: top;\n",
       "    }\n",
       "\n",
       "    .dataframe thead th {\n",
       "        text-align: right;\n",
       "    }\n",
       "</style>\n",
       "<table border=\"1\" class=\"dataframe\">\n",
       "  <thead>\n",
       "    <tr style=\"text-align: right;\">\n",
       "      <th></th>\n",
       "      <th>year</th>\n",
       "      <th>month</th>\n",
       "      <th>day</th>\n",
       "      <th>temp_2</th>\n",
       "      <th>temp_1</th>\n",
       "      <th>average</th>\n",
       "      <th>actual</th>\n",
       "      <th>friend</th>\n",
       "    </tr>\n",
       "  </thead>\n",
       "  <tbody>\n",
       "    <tr>\n",
       "      <th>count</th>\n",
       "      <td>348.0</td>\n",
       "      <td>348.000000</td>\n",
       "      <td>348.000000</td>\n",
       "      <td>348.000000</td>\n",
       "      <td>348.000000</td>\n",
       "      <td>348.000000</td>\n",
       "      <td>348.000000</td>\n",
       "      <td>348.000000</td>\n",
       "    </tr>\n",
       "    <tr>\n",
       "      <th>mean</th>\n",
       "      <td>2016.0</td>\n",
       "      <td>6.477011</td>\n",
       "      <td>15.514368</td>\n",
       "      <td>62.652299</td>\n",
       "      <td>62.701149</td>\n",
       "      <td>59.760632</td>\n",
       "      <td>62.543103</td>\n",
       "      <td>60.034483</td>\n",
       "    </tr>\n",
       "    <tr>\n",
       "      <th>std</th>\n",
       "      <td>0.0</td>\n",
       "      <td>3.498380</td>\n",
       "      <td>8.772982</td>\n",
       "      <td>12.165398</td>\n",
       "      <td>12.120542</td>\n",
       "      <td>10.527306</td>\n",
       "      <td>11.794146</td>\n",
       "      <td>15.626179</td>\n",
       "    </tr>\n",
       "    <tr>\n",
       "      <th>min</th>\n",
       "      <td>2016.0</td>\n",
       "      <td>1.000000</td>\n",
       "      <td>1.000000</td>\n",
       "      <td>35.000000</td>\n",
       "      <td>35.000000</td>\n",
       "      <td>45.100000</td>\n",
       "      <td>35.000000</td>\n",
       "      <td>28.000000</td>\n",
       "    </tr>\n",
       "    <tr>\n",
       "      <th>25%</th>\n",
       "      <td>2016.0</td>\n",
       "      <td>3.000000</td>\n",
       "      <td>8.000000</td>\n",
       "      <td>54.000000</td>\n",
       "      <td>54.000000</td>\n",
       "      <td>49.975000</td>\n",
       "      <td>54.000000</td>\n",
       "      <td>47.750000</td>\n",
       "    </tr>\n",
       "    <tr>\n",
       "      <th>50%</th>\n",
       "      <td>2016.0</td>\n",
       "      <td>6.000000</td>\n",
       "      <td>15.000000</td>\n",
       "      <td>62.500000</td>\n",
       "      <td>62.500000</td>\n",
       "      <td>58.200000</td>\n",
       "      <td>62.500000</td>\n",
       "      <td>60.000000</td>\n",
       "    </tr>\n",
       "    <tr>\n",
       "      <th>75%</th>\n",
       "      <td>2016.0</td>\n",
       "      <td>10.000000</td>\n",
       "      <td>23.000000</td>\n",
       "      <td>71.000000</td>\n",
       "      <td>71.000000</td>\n",
       "      <td>69.025000</td>\n",
       "      <td>71.000000</td>\n",
       "      <td>71.000000</td>\n",
       "    </tr>\n",
       "    <tr>\n",
       "      <th>max</th>\n",
       "      <td>2016.0</td>\n",
       "      <td>12.000000</td>\n",
       "      <td>31.000000</td>\n",
       "      <td>117.000000</td>\n",
       "      <td>117.000000</td>\n",
       "      <td>77.400000</td>\n",
       "      <td>92.000000</td>\n",
       "      <td>95.000000</td>\n",
       "    </tr>\n",
       "  </tbody>\n",
       "</table>\n",
       "</div>"
      ],
      "text/plain": [
       "         year       month         day      temp_2      temp_1     average  \\\n",
       "count   348.0  348.000000  348.000000  348.000000  348.000000  348.000000   \n",
       "mean   2016.0    6.477011   15.514368   62.652299   62.701149   59.760632   \n",
       "std       0.0    3.498380    8.772982   12.165398   12.120542   10.527306   \n",
       "min    2016.0    1.000000    1.000000   35.000000   35.000000   45.100000   \n",
       "25%    2016.0    3.000000    8.000000   54.000000   54.000000   49.975000   \n",
       "50%    2016.0    6.000000   15.000000   62.500000   62.500000   58.200000   \n",
       "75%    2016.0   10.000000   23.000000   71.000000   71.000000   69.025000   \n",
       "max    2016.0   12.000000   31.000000  117.000000  117.000000   77.400000   \n",
       "\n",
       "           actual      friend  \n",
       "count  348.000000  348.000000  \n",
       "mean    62.543103   60.034483  \n",
       "std     11.794146   15.626179  \n",
       "min     35.000000   28.000000  \n",
       "25%     54.000000   47.750000  \n",
       "50%     62.500000   60.000000  \n",
       "75%     71.000000   71.000000  \n",
       "max     92.000000   95.000000  "
      ]
     },
     "execution_count": 6,
     "metadata": {},
     "output_type": "execute_result"
    }
   ],
   "source": [
    "# Descriptive statistics for each column\n",
    "features.describe()"
   ]
  },
  {
   "cell_type": "code",
   "execution_count": 7,
   "id": "cb090807",
   "metadata": {},
   "outputs": [
    {
     "data": {
      "image/png": "[encoded data removed]",
      "text/plain": [
       "<Figure size 640x480 with 1 Axes>"
      ]
     },
     "metadata": {},
     "output_type": "display_data"
    }
   ],
   "source": [
    "from datetime import datetime\n",
    "import matplotlib.pyplot as plt\n",
    "import matplotlib.dates as mdates\n",
    "df = features \n",
    "#df['month'] = df['month'].map(lambda x: datetime.strptime(str(x), '%Y/%m/%d %H:%M:%S.%f'))\n",
    "x = df['month']\n",
    "y = df['temp_2']\n",
    "# plot\n",
    "plt.plot(x,y)\n",
    "# beautify the x-labels\n",
    "plt.gcf().autofmt_xdate()\n",
    "\n",
    "plt.show()"
   ]
  },
  {
   "cell_type": "markdown",
   "id": "ad274059",
   "metadata": {},
   "source": [
    "# Preparacion de Datos"
   ]
  },
  {
   "cell_type": "markdown",
   "id": "14388eb6",
   "metadata": {},
   "source": [
    "Desafortunadamente no estamos en el punto en que solo alimentamos de datos brutos el modelo y\n",
    "devuelve una respuesta, generalmente habra que hacer algunos cambios menores para poner los \n",
    "datos en terminnos que los entienda la maquina. \n",
    "Se confia en pandas para manipular los datos en una estructura conocida como dataframe, que \n",
    "basicamente es una hoja excel con filas y columnas.  "
   ]
  },
  {
   "cell_type": "markdown",
   "id": "b6ce6374",
   "metadata": {},
   "source": [
    "# One-Hot Encoding"
   ]
  },
  {
   "cell_type": "markdown",
   "id": "202ddbb1",
   "metadata": {},
   "source": [
    "Es el primer paso para tratar los datos. Este proceso toma variables categoricas, como \n",
    "dias de la semana, y las cconvierte en una representacion numerica. \n",
    "Cambiamos una unica columna de dias de la semana en siete columnas de datsos binarios."
   ]
  },
  {
   "cell_type": "code",
   "execution_count": 8,
   "id": "e39f51e4",
   "metadata": {},
   "outputs": [
    {
     "data": {
      "text/html": [
       "<div>\n",
       "<style scoped>\n",
       "    .dataframe tbody tr th:only-of-type {\n",
       "        vertical-align: middle;\n",
       "    }\n",
       "\n",
       "    .dataframe tbody tr th {\n",
       "        vertical-align: top;\n",
       "    }\n",
       "\n",
       "    .dataframe thead th {\n",
       "        text-align: right;\n",
       "    }\n",
       "</style>\n",
       "<table border=\"1\" class=\"dataframe\">\n",
       "  <thead>\n",
       "    <tr style=\"text-align: right;\">\n",
       "      <th></th>\n",
       "      <th>average</th>\n",
       "      <th>actual</th>\n",
       "      <th>friend</th>\n",
       "      <th>week_Fri</th>\n",
       "      <th>week_Mon</th>\n",
       "      <th>week_Sat</th>\n",
       "      <th>week_Sun</th>\n",
       "      <th>week_Thurs</th>\n",
       "      <th>week_Tues</th>\n",
       "      <th>week_Wed</th>\n",
       "    </tr>\n",
       "  </thead>\n",
       "  <tbody>\n",
       "    <tr>\n",
       "      <th>0</th>\n",
       "      <td>45.6</td>\n",
       "      <td>45</td>\n",
       "      <td>29</td>\n",
       "      <td>1</td>\n",
       "      <td>0</td>\n",
       "      <td>0</td>\n",
       "      <td>0</td>\n",
       "      <td>0</td>\n",
       "      <td>0</td>\n",
       "      <td>0</td>\n",
       "    </tr>\n",
       "    <tr>\n",
       "      <th>1</th>\n",
       "      <td>45.7</td>\n",
       "      <td>44</td>\n",
       "      <td>61</td>\n",
       "      <td>0</td>\n",
       "      <td>0</td>\n",
       "      <td>1</td>\n",
       "      <td>0</td>\n",
       "      <td>0</td>\n",
       "      <td>0</td>\n",
       "      <td>0</td>\n",
       "    </tr>\n",
       "    <tr>\n",
       "      <th>2</th>\n",
       "      <td>45.8</td>\n",
       "      <td>41</td>\n",
       "      <td>56</td>\n",
       "      <td>0</td>\n",
       "      <td>0</td>\n",
       "      <td>0</td>\n",
       "      <td>1</td>\n",
       "      <td>0</td>\n",
       "      <td>0</td>\n",
       "      <td>0</td>\n",
       "    </tr>\n",
       "    <tr>\n",
       "      <th>3</th>\n",
       "      <td>45.9</td>\n",
       "      <td>40</td>\n",
       "      <td>53</td>\n",
       "      <td>0</td>\n",
       "      <td>1</td>\n",
       "      <td>0</td>\n",
       "      <td>0</td>\n",
       "      <td>0</td>\n",
       "      <td>0</td>\n",
       "      <td>0</td>\n",
       "    </tr>\n",
       "    <tr>\n",
       "      <th>4</th>\n",
       "      <td>46.0</td>\n",
       "      <td>44</td>\n",
       "      <td>41</td>\n",
       "      <td>0</td>\n",
       "      <td>0</td>\n",
       "      <td>0</td>\n",
       "      <td>0</td>\n",
       "      <td>0</td>\n",
       "      <td>1</td>\n",
       "      <td>0</td>\n",
       "    </tr>\n",
       "  </tbody>\n",
       "</table>\n",
       "</div>"
      ],
      "text/plain": [
       "   average  actual  friend  week_Fri  week_Mon  week_Sat  week_Sun  \\\n",
       "0     45.6      45      29         1         0         0         0   \n",
       "1     45.7      44      61         0         0         1         0   \n",
       "2     45.8      41      56         0         0         0         1   \n",
       "3     45.9      40      53         0         1         0         0   \n",
       "4     46.0      44      41         0         0         0         0   \n",
       "\n",
       "   week_Thurs  week_Tues  week_Wed  \n",
       "0           0          0         0  \n",
       "1           0          0         0  \n",
       "2           0          0         0  \n",
       "3           0          0         0  \n",
       "4           0          1         0  "
      ]
     },
     "execution_count": 8,
     "metadata": {},
     "output_type": "execute_result"
    }
   ],
   "source": [
    "# One-hot encode the data using pandas get_dummies\n",
    "features = pd.get_dummies(features)# Display the first 5 rows of the last 12 columns\n",
    "features.iloc[:,5:].head(5)"
   ]
  },
  {
   "cell_type": "code",
   "execution_count": 9,
   "id": "4a5e47c3",
   "metadata": {},
   "outputs": [
    {
     "name": "stdout",
     "output_type": "stream",
     "text": [
      "The shape of our features is: (348, 15)\n"
     ]
    }
   ],
   "source": [
    "print('The shape of our features is:', features.shape)"
   ]
  },
  {
   "cell_type": "markdown",
   "id": "ad73293f",
   "metadata": {},
   "source": [
    "# Features y targets (rotulos) y conversion de datos en arreglos"
   ]
  },
  {
   "cell_type": "markdown",
   "id": "7642e655",
   "metadata": {},
   "source": [
    "Ahora, necesitamos separa los features y los rotulos. Los rotulos son los valores que \n",
    "queremos predecir en este caso la temperatura maxima actual y las caracteristicas son \n",
    "las columnas que usa el modelo para hacer la prediccion.\n",
    "Se convierten los dataframes pandas a arreglos numpy que es la forma en que trabaja el\n",
    "algoritmo. Se guardan los encabezados de las columnas para la visualiazacion posterior"
   ]
  },
  {
   "cell_type": "code",
   "execution_count": 10,
   "id": "5f4beeb4",
   "metadata": {},
   "outputs": [],
   "source": [
    "# Use numpy to convert to arrays\n",
    "import numpy as np# Labels are the values we want to predict\n",
    "labels = np.array(features['actual'])# Remove the labels from the features\n",
    "# axis 1 refers to the columns\n",
    "features= features.drop('actual', axis = 1)# Saving feature names for later use\n",
    "feature_list = list(features.columns)# Convert to numpy array\n",
    "features = np.array(features)"
   ]
  },
  {
   "cell_type": "markdown",
   "id": "47f204bf",
   "metadata": {},
   "source": [
    "# Conjuntos de entrenamiento y de prueba"
   ]
  },
  {
   "cell_type": "markdown",
   "id": "5d4aa2e3",
   "metadata": {},
   "source": [
    "Se dividen los datos en conjunto de entrenamiento y conjunto de prueba. Durante el entrenamiento\n",
    "dejamos que el modelo \"vea\" las respuestas, los rotulos, en este caso la temperatura actual. Para\n",
    "que aprenda a predecir la temperatura actual de los features. \n",
    "Esperamos que hay una relacion entre las features y el valor del rotulo, el trabajo del modelo es \n",
    "aprender esa relacion durante el entrenamiento.\n",
    "Luego hay que evaluar el modelo, entonces se hacen predicciones sobre el conjunto de validacion \n",
    "dandole solo las features. Como ya tenemos las respuestas, los rotulos, los comparamos con las\n",
    "predicciones para juzgar la precision del modelo. \n",
    "\n",
    "El siguiente codigo divide los datos"
   ]
  },
  {
   "cell_type": "code",
   "execution_count": 11,
   "id": "80db3887",
   "metadata": {},
   "outputs": [],
   "source": [
    "# Using Skicit-learn to split data into training and testing sets\n",
    "from sklearn.model_selection import train_test_split# Split the data into training and testing sets\n",
    "train_features, test_features, train_labels, test_labels = train_test_split(features, labels, test_size = 0.25, random_state = 42)"
   ]
  },
  {
   "cell_type": "markdown",
   "id": "63c6f621",
   "metadata": {},
   "source": [
    "Echamos una mirada para estar seguros de que la division se ha hecho correctamente. "
   ]
  },
  {
   "cell_type": "code",
   "execution_count": 12,
   "id": "d87a720a",
   "metadata": {},
   "outputs": [
    {
     "name": "stdout",
     "output_type": "stream",
     "text": [
      "Training Features Shape: (261, 14)\n",
      "Training Labels Shape: (261,)\n",
      "Testing Features Shape: (87, 14)\n",
      "Testing Labels Shape: (87,)\n"
     ]
    }
   ],
   "source": [
    "print('Training Features Shape:', train_features.shape)\n",
    "print('Training Labels Shape:', train_labels.shape)\n",
    "print('Testing Features Shape:', test_features.shape)\n",
    "print('Testing Labels Shape:', test_labels.shape)"
   ]
  },
  {
   "cell_type": "markdown",
   "id": "267f3b3d",
   "metadata": {},
   "source": [
    "Recapitualndo\n",
    "1. One-hot encoded categorical variables\n",
    "\n",
    "2. Split data into features and labels\n",
    "\n",
    "3. Converted to arrays\n",
    "\n",
    "4. Split data into training and testing sets"
   ]
  },
  {
   "cell_type": "markdown",
   "id": "cc33eed2",
   "metadata": {},
   "source": [
    "Dependiendo del data set inicial, puede haber trabajo extra como eliminar valores atipicos, \n",
    "atribuir valores faltantes, o convertir variables temporales en representaciones ciclicas."
   ]
  },
  {
   "cell_type": "markdown",
   "id": "011a5fc9",
   "metadata": {},
   "source": [
    "# Establecer una base"
   ]
  },
  {
   "cell_type": "markdown",
   "id": "c419ddbe",
   "metadata": {},
   "source": [
    "Antes de hacer y evaluar predicciones, necesitamos establecer una base, una medida que venza el modelo. Si el modelo no puede mejorar esta base, hay una falla y se debe tratar un modelo\n",
    "diferente o el problea no es apropiado para trajarlo por ML.\n",
    "En nuestro caso la prediccion base pueden ser los promedios historicos de temperaturas maximas.\n",
    "En otras palabras nuestra base es el error que obtendriamos si simplemente predecimos la \n",
    "temperatura maxima promedio para todos los dias."
   ]
  },
  {
   "cell_type": "code",
   "execution_count": 13,
   "id": "0cd63727",
   "metadata": {},
   "outputs": [
    {
     "name": "stdout",
     "output_type": "stream",
     "text": [
      "Average baseline error:  5.06\n"
     ]
    }
   ],
   "source": [
    "# The baseline predictions are the historical averages\n",
    "baseline_preds = test_features[:, feature_list.index('average')]\n",
    "\n",
    "# Baseline errors, and display average baseline error\n",
    "baseline_errors = abs(baseline_preds - test_labels)\n",
    "print('Average baseline error: ', round(np.mean(baseline_errors), 2))\n"
   ]
  },
  {
   "cell_type": "markdown",
   "id": "5eaeb656",
   "metadata": {},
   "source": [
    "We now have our goal! If we can’t beat an average error of 5 degrees, then we need to \n",
    "rethink our approach."
   ]
  },
  {
   "cell_type": "markdown",
   "id": "acd29fba",
   "metadata": {},
   "source": [
    "# Entrenando el modelo"
   ]
  },
  {
   "cell_type": "markdown",
   "id": "94f0dcc0",
   "metadata": {},
   "source": [
    "Despues de la preparacion de os datos, la creacion y el entrenamiento de modelo es muy simple\n",
    "usando Scikit learning. Importamos el modelo random forest regression y fit (scikit-learn’s name\n",
    "for training) el modelo. Esto solo toma 3 lineas:"
   ]
  },
  {
   "cell_type": "code",
   "execution_count": 14,
   "id": "11aa3292",
   "metadata": {},
   "outputs": [],
   "source": [
    "# Import the model we are using\n",
    "from sklearn.ensemble import RandomForestRegressor\n",
    "\n",
    "# Instantiate model with 1000 decision trees\n",
    "rf = RandomForestRegressor(n_estimators = 1000, random_state = 42)\n",
    "\n",
    "# Train the model on training data\n",
    "rf.fit(train_features, train_labels);"
   ]
  },
  {
   "cell_type": "markdown",
   "id": "2329b909",
   "metadata": {},
   "source": [
    "# Predicciones con el test set"
   ]
  },
  {
   "cell_type": "markdown",
   "id": "9f8350d6",
   "metadata": {},
   "source": [
    "El modelo ya aprendio las relaciones entre los features y los targets.El siguiente paso es averiguar que tan bien lo hace el modelo. Para hacerlo hacemos las predicciones sobre las features del set test.\n",
    "Luego comparamos las predicciones con las respuestas conocidas en el set target.\n",
    "Cuando se hace la regresion, necesitamos estar seguros de usar el error absoluto-\n",
    "\n",
    "Hacer las predicciones con el modelo solo toma 1 linea."
   ]
  },
  {
   "cell_type": "code",
   "execution_count": 15,
   "id": "20bf15b5",
   "metadata": {},
   "outputs": [
    {
     "name": "stdout",
     "output_type": "stream",
     "text": [
      "Mean Absolute Error: 3.83 degrees.\n"
     ]
    }
   ],
   "source": [
    "# Use the forest's predict method on the test data\n",
    "predictions = rf.predict(test_features)\n",
    "\n",
    "# Calculate the absolute errors\n",
    "errors = abs(predictions - test_labels)\n",
    "\n",
    "# Print out the mean absolute error (mae)\n",
    "print('Mean Absolute Error:', round(np.mean(errors), 2), 'degrees.')"
   ]
  },
  {
   "cell_type": "markdown",
   "id": "5a662c86",
   "metadata": {},
   "source": [
    "Estimado de 3.83 grados, mas de 1 grado de mejora promedio sobre la base. \n",
    "Puede no parecer mucho pero es una mejora del 25% sobre la base."
   ]
  },
  {
   "cell_type": "markdown",
   "id": "900c4719",
   "metadata": {},
   "source": [
    "# Determine una metrica de comportamiento"
   ]
  },
  {
   "cell_type": "markdown",
   "id": "6737e827",
   "metadata": {},
   "source": [
    "Para poner nuestras predicciones en perspectiva, calculamos una precision usando la media de\n",
    "porcentaje de error promedio, restandolo del 100%."
   ]
  },
  {
   "cell_type": "code",
   "execution_count": 24,
   "id": "021944ad",
   "metadata": {},
   "outputs": [
    {
     "name": "stdout",
     "output_type": "stream",
     "text": [
      "Accuracy: 93.98 %.\n"
     ]
    }
   ],
   "source": [
    "# Calculate mean absolute percentage error (MAPE)\n",
    "mape = 100 * (errors / test_labels)\n",
    "\n",
    "# Calculate and display accuracy\n",
    "accuracy = 100 - np.mean(mape)\n",
    "print('Accuracy:', round(accuracy, 2), '%.')"
   ]
  },
  {
   "cell_type": "markdown",
   "id": "01c2041c",
   "metadata": {},
   "source": [
    "!ESTO SE VE MUY BIEN!! El modelo ha aprendido como predecir la temperatura maxima para el dia\n",
    "dia siguiente en Seattle con una precision del 94%."
   ]
  },
  {
   "cell_type": "markdown",
   "id": "4675cdd5",
   "metadata": {},
   "source": [
    "# Mejore el modelo, si es necesario"
   ]
  },
  {
   "cell_type": "markdown",
   "id": "c3b5617b",
   "metadata": {},
   "source": [
    "En el flujo ded trabajo normal, es cuando se comienzan a ajustar los hiperpraametros. Lo mas comun\n",
    "es hacer un atado de modelos con diferentes definiciones o hipérpeametros, evaluarlos con el mismo\n",
    "conjunto de entrenamiento y ver cual lo hace mejor. \n",
    "El ajuste de los hiperparametros es mas de ingeiieria que de teoria. Una prediccion del 94% es \n",
    "bastante buens, pero se debe tener en cuenta que esto sucede muy pocas veces."
   ]
  },
  {
   "cell_type": "markdown",
   "id": "3a5995cc",
   "metadata": {},
   "source": [
    "# Interprete el modelo y reporte los resultados"
   ]
  },
  {
   "cell_type": "markdown",
   "id": "f8392c85",
   "metadata": {},
   "source": [
    "Una de las mejores partes de la implementacion de Random Forest en Skicit-learn, es que realmente\n",
    "podemos examinar cualquier arbol del bosque. Seleccionamos un arbol y guardamos toda su imagen."
   ]
  },
  {
   "cell_type": "code",
   "execution_count": 16,
   "id": "82061e5b",
   "metadata": {},
   "outputs": [
    {
     "ename": "ModuleNotFoundError",
     "evalue": "No module named 'pydot'",
     "output_type": "error",
     "traceback": [
      "\u001b[1;31m---------------------------------------------------------------------------\u001b[0m",
      "\u001b[1;31mModuleNotFoundError\u001b[0m                       Traceback (most recent call last)",
      "\u001b[1;32m~\\AppData\\Local\\Temp\\ipykernel_1124\\689038176.py\u001b[0m in \u001b[0;36m<module>\u001b[1;34m\u001b[0m\n\u001b[0;32m      1\u001b[0m \u001b[1;31m# Import tools needed for visualization\u001b[0m\u001b[1;33m\u001b[0m\u001b[1;33m\u001b[0m\u001b[0m\n\u001b[0;32m      2\u001b[0m \u001b[1;32mfrom\u001b[0m \u001b[0msklearn\u001b[0m\u001b[1;33m.\u001b[0m\u001b[0mtree\u001b[0m \u001b[1;32mimport\u001b[0m \u001b[0mexport_graphviz\u001b[0m\u001b[1;33m\u001b[0m\u001b[1;33m\u001b[0m\u001b[0m\n\u001b[1;32m----> 3\u001b[1;33m \u001b[1;32mimport\u001b[0m \u001b[0mpydot\u001b[0m\u001b[1;33m\u001b[0m\u001b[1;33m\u001b[0m\u001b[0m\n\u001b[0m\u001b[0;32m      4\u001b[0m \u001b[1;33m\u001b[0m\u001b[0m\n\u001b[0;32m      5\u001b[0m \u001b[1;31m# Pull out one tree from the forest\u001b[0m\u001b[1;33m\u001b[0m\u001b[1;33m\u001b[0m\u001b[0m\n",
      "\u001b[1;31mModuleNotFoundError\u001b[0m: No module named 'pydot'"
     ]
    }
   ],
   "source": [
    "# Import tools needed for visualization\n",
    "from sklearn.tree import export_graphviz\n",
    "import pydot\n",
    "\n",
    "# Pull out one tree from the forest\n",
    "tree = rf.estimators_[5]\n",
    "\n",
    "# Import tools needed for visualization\n",
    "from sklearn.tree import export_graphviz\n",
    "\n",
    "# Pull out one tree from the forest\n",
    "tree = rf.estimators_[5]\n",
    "\n",
    "# Export the image to a dot file\n",
    "export_graphviz(tree, out_file = 'tree.dot', feature_names = \n",
    "                feature_list, rounded = True, precision = 1)\n",
    "\n",
    "# Use dot file to create a graph\n",
    "(graph, ) = pydot.graph_from_dot_file('tree.dot')\n",
    "\n",
    "# Write graph to a png file\n",
    "graph.write_png('tree.png')"
   ]
  },
  {
   "cell_type": "markdown",
   "id": "6619ae75",
   "metadata": {},
   "source": [
    "<img src=\"tree.png\">"
   ]
  },
  {
   "cell_type": "markdown",
   "id": "09b051c9",
   "metadata": {},
   "source": [
    "El arbol esta bastante expandido con 15 capas. Se va a limitar la profundidad de los arboles\n",
    "para producir una imagen comprensible."
   ]
  },
  {
   "cell_type": "code",
   "execution_count": 27,
   "id": "4743b2b5",
   "metadata": {},
   "outputs": [],
   "source": [
    "# Limit depth of tree to 3 levels\n",
    "rf_small = RandomForestRegressor(n_estimators=10, max_depth = 3)\n",
    "rf_small.fit(train_features, train_labels)\n",
    "\n",
    "# Extract the small tree\n",
    "tree_small = rf_small.estimators_[5]\n",
    "\n",
    "# Save the tree as a png image\n",
    "export_graphviz(tree_small, out_file = 'small_tree.dot', \n",
    "feature_names = feature_list, rounded = True, precision = 1)\n",
    "(graph, ) = pydot.graph_from_dot_file('small_tree.dot')\n",
    "graph.write_png('small_tree.png');"
   ]
  },
  {
   "cell_type": "markdown",
   "id": "69cda545",
   "metadata": {},
   "source": [
    "Aqui esta el arbol reducido con anotaciones en los nodos"
   ]
  },
  {
   "cell_type": "markdown",
   "id": "9780fd18",
   "metadata": {},
   "source": [
    "<img src=\"captura.jpg\">\n"
   ]
  },
  {
   "cell_type": "markdown",
   "id": "e93df877",
   "metadata": {},
   "source": [
    "<img src=\"captur.jpg\">"
   ]
  },
  {
   "cell_type": "markdown",
   "id": "d52726f7",
   "metadata": {},
   "source": [
    "Solo con base en este arbol se puede hacer una prediccion para cualquier nuevo punto de datos. \n",
    "Tomemos un ejemplo, hacer una prediccion para el miercoles 27 de diciembre de 2017. Las variables\n",
    "son: temp_2 = 39, temp_1 = 35, average = 44, y friend = 30. Comenzamos en el nodo raiz y la primera\n",
    "respuesta es true porque temp_1 ≤ 59.5. Nos movemos por la izquierda y encontramos la segunda \n",
    "pregunta que tambien es true, average ≤ 46.8. Yendo hacia abajo por la izquierda que tambien\n",
    "es true debido a que temp_1 ≤ 44.5. Por lo tanto concluimos que nuestro estimado de maxima\n",
    "temperatura es 41.0 grados como lo indica el valor en el nodo hoja.\n",
    "Una observacion interesante es que en el nodo raiz solo tiene solo 162 muestras (samples) aunque los\n",
    "datos de entrenamiento 261 puntos de datos. Esto se debe a que cada arbol en el bosque se entrena\n",
    "con un conjunto aleatorio de puntos de datos con reemplazo (lo que se llama bagging de bootstrap\n",
    "aggregating). Se puede poner off el muestreo con reemplazo, haciendo bootstrap = False cuando se\n",
    "hace el bosque. El muestreo aleatorio junto con el muestreo aleatorio de un subconjunto de features\n",
    "en cada nodo del arbol es por que el modelo se llama bosque \"aleatorio\"."
   ]
  },
  {
   "cell_type": "markdown",
   "id": "ebc91e32",
   "metadata": {},
   "source": [
    "Ademas, observe que en nuestro arbol, hay solo 2 variables que realmente se usan para haver la\n",
    "una prediccion! De acuerdo a este arbol de decision particular decision, el resto de las features\n",
    "no son importantes para hacer una prediccion. El mes del año, el dia del mes, y la prediccion de\n",
    "muestor amigo son completamente inutiles para predecir la temperatura maxima para mañana! La \n",
    "unica informacion importante deacuerdo con nuestro arbol simple es la temperatura 1 day antes y\n",
    "el proedio historica.\n",
    "La visualizacion del arbol aumena el conocimiento de nuestro domain del problema, y ahora sabemos\n",
    "que datos buscamos si queremos hacer una prediccion!"
   ]
  },
  {
   "cell_type": "markdown",
   "id": "bad62a4b",
   "metadata": {},
   "source": [
    "# Importancia de las variables"
   ]
  },
  {
   "cell_type": "markdown",
   "id": "e9f130be",
   "metadata": {},
   "source": [
    "Con el fin de cuantificar la utilidad de todas las variables en el bosque aleatorio completo,\n",
    "podemos observar la importancia relativa de las variables. Las importancias que returna el \n",
    "Skicit-learn representan que tanto mejora la prediccion el incluir una variable particular. \n",
    "Los calculos reales de la importancia no se incluyen, pero podemos usar los numeros para \n",
    "hacer comparaciones relativas entre las variables"
   ]
  },
  {
   "cell_type": "markdown",
   "id": "96ff4f0d",
   "metadata": {},
   "source": [
    "El codigo aprovecha varios trucos number del Python, como list, zip, sorting, y desempaque\n",
    "de argumentos. "
   ]
  },
  {
   "cell_type": "code",
   "execution_count": 28,
   "id": "14c7f9e9",
   "metadata": {},
   "outputs": [
    {
     "name": "stdout",
     "output_type": "stream",
     "text": [
      "Variable: temp_1               Importance: 0.69\n",
      "Variable: average              Importance: 0.2\n",
      "Variable: day                  Importance: 0.03\n",
      "Variable: friend               Importance: 0.03\n",
      "Variable: temp_2               Importance: 0.02\n",
      "Variable: month                Importance: 0.01\n",
      "Variable: year                 Importance: 0.0\n",
      "Variable: week_Fri             Importance: 0.0\n",
      "Variable: week_Mon             Importance: 0.0\n",
      "Variable: week_Sat             Importance: 0.0\n",
      "Variable: week_Sun             Importance: 0.0\n",
      "Variable: week_Thurs           Importance: 0.0\n",
      "Variable: week_Tues            Importance: 0.0\n",
      "Variable: week_Wed             Importance: 0.0\n"
     ]
    }
   ],
   "source": [
    "# Get numerical feature importances\n",
    "importances = list(rf.feature_importances_)\n",
    "\n",
    "# List of tuples with variable and importance\n",
    "feature_importances = [(feature, round(importance, 2)) \n",
    "for feature, importance in zip(feature_list, importances)]\n",
    "\n",
    "# Sort the feature importances by most important first\n",
    "feature_importances = sorted(feature_importances, key = lambda x: x[1], reverse = True)\n",
    "\n",
    "# Print out the feature and importances \n",
    "[print('Variable: {:20} Importance: {}'.format(*pair)) \n",
    "for pair in feature_importances];"
   ]
  },
  {
   "cell_type": "markdown",
   "id": "f9bd85f4",
   "metadata": {},
   "source": [
    "En el tope de la lista esta temp_1, la temperatura maxina del dia anterior. Nos dice que este es el \n",
    "mejor predictor de la temperature maxima para un dia, un hallazgo un poco intuitivo. El segundo\n",
    "factor mas importante es el promedio historico de temperature maxima, Tampoco es \n",
    "sorprendente. Lo que piensa su amigo tampoco es muy util, junto con el dia de la semana, tampoco\n",
    "es muy util. "
   ]
  },
  {
   "cell_type": "markdown",
   "id": "68a5b915",
   "metadata": {},
   "source": [
    "En futuras implementaciones del modelo, podemos eliminar las variables que no tienen importancia y\n",
    "no influyen en el comportamiento. Ademas, si usamos un modelo diferente, digamos SVM, podriamos usar\n",
    "las features importantes del bosque aleatorio como una clase de metodo para la seleccion de features.\n",
    "Hagamos rapidamente un bosque aleatorio solo con las variables importantes, la temperatura maxima\n",
    "de 1 dia antes y el promedio historico y veamos como se comporta para comparar."
   ]
  },
  {
   "cell_type": "code",
   "execution_count": 29,
   "id": "059b6768",
   "metadata": {},
   "outputs": [
    {
     "name": "stdout",
     "output_type": "stream",
     "text": [
      "Mean Absolute Error: 3.92 degrees.\n",
      "Accuracy: 93.76 %.\n"
     ]
    }
   ],
   "source": [
    "# New random forest with only the two most important variables\n",
    "rf_most_important = RandomForestRegressor(n_estimators= 1000, random_state=42)\n",
    "\n",
    "# Extract the two most important features\n",
    "important_indices = [feature_list.index('temp_1'), feature_list.index('average')]\n",
    "train_important = train_features[:, important_indices]\n",
    "test_important = test_features[:, important_indices]\n",
    "\n",
    "# Train the random forest\n",
    "rf_most_important.fit(train_important, train_labels)\n",
    "\n",
    "# Make predictions and determine the error\n",
    "predictions = rf_most_important.predict(test_important)\n",
    "errors = abs(predictions - test_labels)\n",
    "\n",
    "# Display the performance metrics\n",
    "print('Mean Absolute Error:', round(np.mean(errors), 2), 'degrees.')\n",
    "\n",
    "mape = np.mean(100 * (errors / test_labels))\n",
    "accuracy = 100 - mape\n",
    "print('Accuracy:', round(accuracy, 2), '%.')"
   ]
  },
  {
   "cell_type": "markdown",
   "id": "5e4f849b",
   "metadata": {},
   "source": [
    "Est realmente os dice que que realmente no necesitamos todos los datos que recogimos para hacer una predicciones correctas!. Si contiuaramos usando este modelo, solo tendriamos las dos variables y logramos tener casi el mismo comportamiento. \n",
    " En un ambiente de produccion, necesitariamos ponderar disminuir la precision \n",
    "versus el tiempo extra requerido para obtener mas informacion. Saber como encontrar el balamce correcto entre comportamiento y costo es una destreza esencial para un ingeniro de ML y finalmente dependera del problema!"
   ]
  },
  {
   "cell_type": "markdown",
   "id": "105b6075",
   "metadata": {},
   "source": [
    "En este punto se ha cubierto casi todo lo que se debe saber para la implementacion de un bosque aleatorio para un problema de regresion. Podemos tener confianza de que nuestro modelo puede predecir la temperatura maxima de mañana con un 94% de precision a partir de un año de daos historicos. Con esto puede jugar con este ejemplo, o usar el modelo con otro conjunto de datos. \n",
    "here, feel free to play around with this example, or use the model on a data set of your choice. \n",
    "Ahora se van a hacer algunas visualizationes. \n"
   ]
  },
  {
   "cell_type": "markdown",
   "id": "cfd0414a",
   "metadata": {},
   "source": [
    "# Visualizaciones"
   ]
  },
  {
   "cell_type": "markdown",
   "id": "11f4c8bc",
   "metadata": {},
   "source": [
    "El primer diagrama es una barra simple de las importancias de las caracateristicas, para ilustrar las disparidades en la significancia relativa de las variables. Hacer graficos con Python  no es intuitivo y casi todo sobre este tema se puede encontrar en Stack Overflow. No se preocupe si el codigo no tiene mucho sentido, a veces no es necesario comprender completamente el codigo! "
   ]
  },
  {
   "cell_type": "code",
   "execution_count": 31,
   "id": "068fc59f",
   "metadata": {},
   "outputs": [
    {
     "data": {
      "image/png": "[encoded data removed]",
      "text/plain": [
       "<Figure size 432x288 with 1 Axes>"
      ]
     },
     "metadata": {},
     "output_type": "display_data"
    }
   ],
   "source": [
    "# Import matplotlib for plotting and use magic command for Jupyter Notebooks\n",
    "import matplotlib.pyplot as plt\n",
    "%matplotlib inline\n",
    "\n",
    "# Set the style\n",
    "plt.style.use('fivethirtyeight')\n",
    "\n",
    "# list of x locations for plotting\n",
    "x_values = list(range(len(importances)))\n",
    "\n",
    "# Make a bar chart\n",
    "plt.bar(x_values, importances, orientation = 'vertical'\n",
    "       \n",
    ")# Tick labels for x axis\n",
    "plt.xticks(x_values, feature_list, rotation='vertical')\n",
    "\n",
    "# Axis labels and title\n",
    "plt.ylabel('Importance'); plt.xlabel('Variable'); plt.title('Variable Importances');"
   ]
  },
  {
   "cell_type": "markdown",
   "id": "39d76286",
   "metadata": {},
   "source": [
    "Luego, se grafican el conjunto de datos completo resaltando las predicciones. Esto requiere un poco de manipulacion de datos, pero no es tan dificil.  Podemos usar este grafico para determinar si hay valores atipicos ya sea en los datos o en las predicciobes  "
   ]
  },
  {
   "cell_type": "code",
   "execution_count": 32,
   "id": "79792c55",
   "metadata": {},
   "outputs": [
    {
     "data": {
      "image/png": "[encoded data removed]",
      "text/plain": [
       "<Figure size 432x288 with 1 Axes>"
      ]
     },
     "metadata": {},
     "output_type": "display_data"
    }
   ],
   "source": [
    "# Use datetime for creating date objects for plotting\n",
    "import datetime\n",
    "\n",
    "# Dates of training values\n",
    "months = features[:, feature_list.index('month')]\n",
    "days = features[:, feature_list.index('day')]\n",
    "years = features[:, feature_list.index('year')]\n",
    "\n",
    "# List and then convert to datetime object\n",
    "dates = [str(int(year)) + '-' + str(int(month)) + '-' + str(int(day)) \n",
    "for year, month, day in zip(years, months, days)]\n",
    "dates = [datetime.datetime.strptime(date, '%Y-%m-%d') for date in dates]\n",
    "\n",
    "# Dataframe with true values and dates\n",
    "true_data = pd.DataFrame(data = {'date': dates, 'actual': labels})\n",
    "\n",
    "# Dates of predictions\n",
    "months = test_features[:, feature_list.index('month')]\n",
    "days = test_features[:, feature_list.index('day')]\n",
    "years = test_features[:, feature_list.index('year')]\n",
    "\n",
    "# Column of dates\n",
    "test_dates = [str(int(year)) + '-' + str(int(month)) + '-' + str(int(day)) \n",
    "for year, month, day in zip(years, months, days)]\n",
    "\n",
    "# Convert to datetime objects\n",
    "test_dates = [datetime.datetime.strptime(date, '%Y-%m-%d') \n",
    "for date in test_dates]\n",
    "\n",
    "# Dataframe with predictions and dates\n",
    "predictions_data = pd.DataFrame(data = {'date': test_dates, 'prediction': predictions})\n",
    "\n",
    "# Plot the actual values\n",
    "plt.plot(true_data['date'], true_data['actual'], 'b-', label = 'actual')\n",
    "\n",
    "# Plot the predicted values\n",
    "plt.plot(predictions_data['date'], predictions_data['prediction'], 'ro', label = 'prediction')\n",
    "plt.xticks(rotation = '60'); \n",
    "plt.legend()\n",
    "\n",
    "# Graph labels\n",
    "plt.xlabel('Date'); plt.ylabel('Maximum Temperature (F)'); plt.title('Actual and Predicted Values');"
   ]
  },
  {
   "cell_type": "markdown",
   "id": "1a35ec68",
   "metadata": {},
   "source": [
    "Poco trabajo para un buen grafico! No parece que haya valores atipicos notables que yaya necesidad de corregir.  Para un diagnostico posterior del modelo, se pueden graficar los residuos (los errores) para ver si el modelo tiene una tendencia a estar sobre entrenado o subentrenado, tambien se puede observar si los errores estan distribuidos normalmente.   \n",
    "Sin embargo, solo se hace un diagrama final que muestra los valores reales, la temperatura en un dia, el promedio historico y la prediccion del amigo. Esto permitira ver la diferencia entre variables utiles y esos no son tan utiles."
   ]
  },
  {
   "cell_type": "code",
   "execution_count": 33,
   "id": "a23905c5",
   "metadata": {},
   "outputs": [
    {
     "data": {
      "image/png": "[encoded data removed]",
      "text/plain": [
       "<Figure size 432x288 with 1 Axes>"
      ]
     },
     "metadata": {},
     "output_type": "display_data"
    }
   ],
   "source": [
    "# Make the data accessible for plotting\n",
    "true_data['temp_1'] = features[:, feature_list.index('temp_1')]\n",
    "true_data['average'] = features[:, feature_list.index('average')]\n",
    "true_data['friend'] = features[:, feature_list.index('friend')]\n",
    "\n",
    "# Plot all the data as lines\n",
    "plt.plot(true_data['date'], true_data['actual'], 'b-', label  = 'actual', alpha = 1.0)\n",
    "plt.plot(true_data['date'], true_data['temp_1'], 'y-', label  = 'temp_1', alpha = 1.0)\n",
    "plt.plot(true_data['date'], true_data['average'], 'k-', label = 'average', alpha = 0.8)\n",
    "plt.plot(true_data['date'], true_data['friend'], 'r-', label = 'friend', alpha = 0.3)\n",
    "\n",
    "# Formatting plot\n",
    "plt.legend(); plt.xticks(rotation = '60');\n",
    "\n",
    "# Lables and title\n",
    "plt.xlabel('Date'); plt.ylabel('Maximum Temperature (F)'); \n",
    "plt.title('Actual Max Temp and Variables');"
   ]
  },
  {
   "cell_type": "markdown",
   "id": "e5c70961",
   "metadata": {},
   "source": [
    "Es algo dificil distinguir todas las lineas, pero podemos ver porque la temperatura maxima en un dia anterior y la maxima temperatura historica son utiles para predecir la maxima temperatura, mientras el amigo no.  Graficos como este son utiles para adelantarnos en el tiempo de manera que podenos escoger las variables que se deben incluir, pero tambien se pueden usar para el diagnostico. \n",
    "Graphs such as this are often helpful to make ahead of time so we can choose the variables to \n",
    "include, but they also can be used for diagnosis. "
   ]
  },
  {
   "cell_type": "markdown",
   "id": "9773f9fe",
   "metadata": {},
   "source": [
    "# Conclusiones"
   ]
  },
  {
   "cell_type": "markdown",
   "id": "e7cfc6cf",
   "metadata": {},
   "source": [
    "Con estos grafos, terminamos un ejemplo completo de ML! En este punto, si queremos mejorar el modelo, debemos tratar diferentes hiperparametros, tratar un algoritmo diferente, o un mejor enfoque global, recoger mas datos!\n",
    "El comportamiento de cualquier modelo es directamente proporcional a la cantidad de datos validos de los cuales puede aprender, pues estamos usando ua cantidad muy limitada de informacion para el entrenamiento."
   ]
  },
  {
   "cell_type": "code",
   "execution_count": null,
   "id": "68447231",
   "metadata": {},
   "outputs": [],
   "source": []
  }
 ],
 "metadata": {
  "kernelspec": {
   "display_name": "Python 3 (ipykernel)",
   "language": "python",
   "name": "python3"
  },
  "language_info": {
   "codemirror_mode": {
    "name": "ipython",
    "version": 3
   },
   "file_extension": ".py",
   "mimetype": "text/x-python",
   "name": "python",
   "nbconvert_exporter": "python",
   "pygments_lexer": "ipython3",
   "version": "3.9.13"
  }
 },
 "nbformat": 4,
 "nbformat_minor": 5
}
